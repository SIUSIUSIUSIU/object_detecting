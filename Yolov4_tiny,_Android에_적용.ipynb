{
  "nbformat": 4,
  "nbformat_minor": 0,
  "metadata": {
    "colab": {
      "provenance": []
    },
    "kernelspec": {
      "name": "python3",
      "display_name": "Python 3"
    },
    "language_info": {
      "name": "python"
    }
  },
  "cells": [
    {
      "cell_type": "markdown",
      "source": [
        "# 1. Yolov4-tiny 학습 결과 생성된 .weights를 .tflite 형식으로 변환"
      ],
      "metadata": {
        "id": "RgdT_Bd6443T"
      }
    },
    {
      "cell_type": "code",
      "execution_count": null,
      "metadata": {
        "id": "01lt8_wh4ztU"
      },
      "outputs": [],
      "source": [
        "# 텐서플로우 2.3.0 설치\n",
        "!pip install tensorflow==2.3.0\n",
        "import tensorflow as tf\n",
        "\n",
        "#yolov4를 tflite로 변환해주기 위해 git 클론\n",
        "!git clone https://github.com/hunglc007/tensorflow-yolov4-tflite\n",
        "!cp /content/drive/MyDrive/config.py /content/tensorflow-yolov4-tflite/core/config.py #목적에 맞게 설정한 config.py를 설치한 텐서플로우 내의 config.py로 변경\n",
        "\n",
        "#.weight를 .tflite로 변환 후 저장\n",
        "!python /content/tensorflow-yolov4-tflite/save_model.py --weights /content/yolov4-tiny.weights --output /content/drive/yolov4-my-tiny-out-416 --input_size 416 --model yolov4 --tiny --framework tflite\n",
        "!pip install opencv-python\n",
        "!pip install easydict\n",
        "!python /content/tensorflow-yolov4-tflite/convert_tflite.py --weights /content/yolov4-my-tiny-out-416 --output /content/yolov4-my-tiny-out-416.tflite"
      ]
    },
    {
      "cell_type": "markdown",
      "source": [
        "1-1. config.py 에서 __C.YOLO.CLASSES 부분의 경로를 수정 하여 Yolov4-tiny 학습 때 사용한 names를 적용"
      ],
      "metadata": {
        "id": "W7Tz-qZt8OMj"
      }
    },
    {
      "cell_type": "markdown",
      "source": [
        "#! /usr/bin/env python\n",
        "# coding=utf-8\n",
        "from easydict import EasyDict as edict\n",
        "\n",
        "\n",
        "__C                           = edict()\n",
        "# Consumers can get config by: from config import cfg\n",
        "\n",
        "cfg                           = __C\n",
        "\n",
        "# YOLO options\n",
        "__C.YOLO                      = edict()\n",
        "\n",
        "__C.YOLO.CLASSES              = \"/content/my_names.txt\"\n",
        "__C.YOLO.ANCHORS              = [12,16, 19,36, 40,28, 36,75, 76,55, 72,146, 142,110, 192,243, 459,401]\n",
        "__C.YOLO.ANCHORS_V3           = [10,13, 16,30, 33,23, 30,61, 62,45, 59,119, 116,90, 156,198, 373,326]\n",
        "__C.YOLO.ANCHORS_TINY         = [23,27, 37,58, 81,82, 81,82, 135,169, 344,319]\n",
        "__C.YOLO.STRIDES              = [8, 16, 32]\n",
        "__C.YOLO.STRIDES_TINY         = [16, 32]\n",
        "__C.YOLO.XYSCALE              = [1.2, 1.1, 1.05]\n",
        "__C.YOLO.XYSCALE_TINY         = [1.05, 1.05]\n",
        "__C.YOLO.ANCHOR_PER_SCALE     = 3\n",
        "__C.YOLO.IOU_LOSS_THRESH      = 0.5\n",
        "\n",
        "\n",
        "# Train options\n",
        "__C.TRAIN                     = edict()\n",
        "\n",
        "__C.TRAIN.ANNOT_PATH          = \"./data/dataset/val2017.txt\"\n",
        "__C.TRAIN.BATCH_SIZE          = 2\n",
        "# __C.TRAIN.INPUT_SIZE            = [320, 352, 384, 416, 448, 480, 512, 544, 576, 608]\n",
        "__C.TRAIN.INPUT_SIZE          = 416\n",
        "__C.TRAIN.DATA_AUG            = True\n",
        "__C.TRAIN.LR_INIT             = 1e-3\n",
        "__C.TRAIN.LR_END              = 1e-6\n",
        "__C.TRAIN.WARMUP_EPOCHS       = 2\n",
        "__C.TRAIN.FISRT_STAGE_EPOCHS    = 20\n",
        "__C.TRAIN.SECOND_STAGE_EPOCHS   = 30\n",
        "\n",
        "\n",
        "\n",
        "# TEST options\n",
        "__C.TEST                      = edict()\n",
        "\n",
        "__C.TEST.ANNOT_PATH           = \"./data/dataset/val2017.txt\"\n",
        "__C.TEST.BATCH_SIZE           = 2\n",
        "__C.TEST.INPUT_SIZE           = 416\n",
        "__C.TEST.DATA_AUG             = False\n",
        "__C.TEST.DECTECTED_IMAGE_PATH = \"./data/detection/\"\n",
        "__C.TEST.SCORE_THRESHOLD      = 0.25\n",
        "__C.TEST.IOU_THRESHOLD        = 0.5"
      ],
      "metadata": {
        "id": "C4RKs8OaV0eo"
      }
    },
    {
      "cell_type": "markdown",
      "source": [
        "# 2. Tensorflow Android 예제 파일에서 .tflite  파일을 위에서 만든 .yolov4-my-tiny-out-416.tflite 으로 변경"
      ],
      "metadata": {
        "id": "ncu72_z56a1d"
      }
    },
    {
      "cell_type": "markdown",
      "source": [
        "## 3. Tensorflow Android 예제 파일에서 mynames.txt의 내용 수정 (학습 때 사용한 names로 변경 “empty”, “full”)"
      ],
      "metadata": {
        "id": "FM048Z-G6lGj"
      }
    },
    {
      "cell_type": "markdown",
      "source": [
        "## 4. 스마트폰 카메라로 인식한 결과 “empty”일 경우 파란색 바운딩 박스로, 결과가 “full”일 경우 빨간색 바운딩 박스로 표시하기 위해 다음 코드를 MultiBoxTracker.java에 추가"
      ],
      "metadata": {
        "id": "S4Uy4wAD6pjl"
      }
    },
    {
      "cell_type": "code",
      "source": [
        "#객체 인식 결과가 \"empty\" 일 경우 파란색 바운딩박스를, \"full\"인 경우 빨간색 바운딩 박스를 그리도록 설정\n",
        "for (final TrackedRecognition recognition : trackedObjects) {\n",
        "      final RectF trackedPos = new RectF(recognition.location);\n",
        "\n",
        "      getFrameToCanvasMatrix().mapRect(trackedPos);\n",
        "      if (Objects.equals(recognition.title, \"empty\")) {\n",
        "        boxPaint.setColor(Color.BLUE);\n",
        "      }\n",
        "      else if (Objects.equals(recognition.title, \"full\")) {\n",
        "        boxPaint.setColor(Color.RED);\n",
        "      }"
      ],
      "metadata": {
        "id": "iEmpkdry6oKg"
      },
      "execution_count": null,
      "outputs": []
    },
    {
      "cell_type": "markdown",
      "source": [
        "## 5.결과"
      ],
      "metadata": {
        "id": "ju8n12z47RFi"
      }
    },
    {
      "cell_type": "markdown",
      "source": [
        "참고\n",
        "1. https://webnautes.tistory.com/1417\n",
        "2. https://github.com/hunglc007/tensorflow-yolov4-tflite\n",
        "3. https://junyoung-jamong.github.io/machine/learning/2019/01/25/Android%EC%97%90%EC%84%9C-%EB%82%B4-YOLO%EB%AA%A8%EB%8D%B8-%EC%82%AC%EC%9A%A9%ED%95%98%EA%B8%B0.html"
      ],
      "metadata": {
        "id": "_QKP8i2V9utv"
      }
    }
  ]
}